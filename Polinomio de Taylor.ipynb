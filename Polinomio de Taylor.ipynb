{
 "cells": [
  {
   "cell_type": "markdown",
   "id": "ea6a4aef",
   "metadata": {},
   "source": [
    "## <span style=\"color:red\">Polinomio de Tylor"
   ]
  },
  {
   "cell_type": "markdown",
   "id": "d648cfbd",
   "metadata": {},
   "source": [
    "### Introducción\n",
    "En esta nota interactiva voy a implementar un plinomio de Tylor con Python.\n",
    "\n",
    "Como antecedente es importante saber que en programación una variable simbólica es una variable que no representa un valor, sino una expresión simbólica que involucra número, operaciones, funciones y otras variables simbólicas."
   ]
  },
  {
   "cell_type": "markdown",
   "id": "ace35ab2",
   "metadata": {},
   "source": [
    "### Implementación"
   ]
  },
  {
   "cell_type": "code",
   "execution_count": 13,
   "id": "307aaf4a",
   "metadata": {},
   "outputs": [],
   "source": [
    "# Importando las librerías\n",
    "\n",
    "# Esta librería incluye las funciones f(x) que necesitamos\n",
    "import sympy as sp\n",
    "\n",
    "# Esta librería es para las gráficas\n",
    "from sympy.plotting import plot\n",
    "\n",
    "# Esta librería es para los operadores matemáticos que necesitemos\n",
    "from math import *"
   ]
  },
  {
   "cell_type": "markdown",
   "id": "d37b5f87",
   "metadata": {},
   "source": [
    "\n",
    "### Variables simbólicas\n",
    "Como antecedente es importante saber que en programación una variable simbólica es una variable que no representa un valor, sino una expresión simbólica que involucra número, operaciones, funciones y otras variables simbólicas. En python las variables simbólicas se declaran con el método <code>symbols()</code>\n",
    "\n",
    "### Variables <code>funcion</code> y <code>funcion_Taylor</code>\n",
    "Se asigna a la variable <code>funcion</code> la expresión simbólica de la función exponencial $f(x)=e^{x}$. Posteriormete, se asigna dicha función a la variable <code> funcion_Taylor</code> para poder construir el polinomio de Taylor alrededor del punto indicado y con el grado especificado.\n",
    "\n",
    "### Variable <code>suma</code>\n",
    "A esta variable se le asigna la variable <code> funcion</code> con el método <code>subs()</code> aplicado. Lo que hace este método es substituir todas las instancias de la variable simbólica en una expresión con otra variable compatible (números u otras variables simbólicas). En este caso, se sustituye la variable $x$ con la variable <code>cte</code> en la función que se le asignó a <code>funcion</code>.\n",
    "\n",
    "### Ciclo for\n",
    "   Primero, el ciclo se repite tantas veces como sea el grado del polinomio. Esto se debe a que se obtienen las derivadas sucesivas de la función (almacenada en la variable <code>funcion</code>) y se guarda en la variable <code>derivada_funcion</code>. Después de eso, se evalua el punto alrededor del que se construye el polinomio de Taylor de acuerdo con la siguinte expresión:\n",
    "  \n",
    "$\\frac{f^n(x)}{n!}(x-c)^n$\n",
    "\n",
    "Donde *n* es el orden actual de la derivada -que aumenta prograsivamente con cada iteración del ciclo *for*- y *c* es el valor de la abscisa alrededor del que se contruye el polinomio de Taylor. Finalmente, este término se suma a la variable <code>suma</code> y se asigna a la variable <code>funcion</code> la derivada calculada en esa iteración."
   ]
  },
  {
   "cell_type": "code",
   "execution_count": 14,
   "id": "77243d17",
   "metadata": {},
   "outputs": [],
   "source": [
    "# Codificación del polinomio\n",
    "\n",
    "def PolinomioTaylor (cte, gradoPolinomio):\n",
    "    \n",
    "    # Para trabajar variables simbólicas se usa el siguiente comando:\n",
    "    x = sp.symbols('x')\n",
    "    \n",
    "    funcion = sp.exp(x)\n",
    "    funcion_Taylor = funcion\n",
    "    \n",
    "    # .subs(x, y) es un método para substituir el primer valor\n",
    "    # por el segundo.\n",
    "    suma = funcion.subs(x,cte)\n",
    "    \n",
    "    for k in range(1, gradoPolinomio+1):\n",
    "        derivada_funcion = sp.diff(funcion, x)\n",
    "        suma = suma + derivada_funcion.subs(x, cte) * ((x-cte)**k)/factorial(k)\n",
    "        funcion = derivada_funcion\n",
    "        \n",
    "    # Impresión de la gráfica\n",
    "    print(\"f(x) = \", sp.expand(suma))\n",
    "    plot(funcion_Taylor, suma, (x, cte-5, cte+5), title = \"Polinomio de Taylor\")"
   ]
  },
  {
   "cell_type": "code",
   "execution_count": 15,
   "id": "5c317f10",
   "metadata": {},
   "outputs": [
    {
     "name": "stdout",
     "output_type": "stream",
     "text": [
      "¿Alrededor de qué punto se hace la aproximación? (x): 0\n",
      "Orden del polinomio de Taylor: 5\n",
      "f(x) =  x**5/120 + x**4/24 + x**3/6 + x**2/2 + x + 1\n"
     ]
    },
    {
     "data": {
      "image/png": "[encoded data removed]",
      "text/plain": [
       "<Figure size 432x288 with 1 Axes>"
      ]
     },
     "metadata": {
      "needs_background": "light"
     },
     "output_type": "display_data"
    }
   ],
   "source": [
    "# Solicitando datos del usuario\n",
    "cte = float(input('¿Alrededor de qué punto se hace la aproximación? (x): '))\n",
    "gradoPolinomio = int(input('Orden del polinomio de Taylor: '))\n",
    "\n",
    "PolinomioTaylor(cte, gradoPolinomio)"
   ]
  },
  {
   "cell_type": "code",
   "execution_count": null,
   "id": "11aed99a",
   "metadata": {},
   "outputs": [],
   "source": []
  }
 ],
 "metadata": {
  "kernelspec": {
   "display_name": "Python 3 (ipykernel)",
   "language": "python",
   "name": "python3"
  },
  "language_info": {
   "codemirror_mode": {
    "name": "ipython",
    "version": 3
   },
   "file_extension": ".py",
   "mimetype": "text/x-python",
   "name": "python",
   "nbconvert_exporter": "python",
   "pygments_lexer": "ipython3",
   "version": "3.9.12"
  }
 },
 "nbformat": 4,
 "nbformat_minor": 5
}
