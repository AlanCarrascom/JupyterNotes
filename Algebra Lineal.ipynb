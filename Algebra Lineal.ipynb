{
 "cells": [
  {
   "cell_type": "markdown",
   "id": "ef956f2f",
   "metadata": {},
   "source": [
    "# Algebra Lineal en Python"
   ]
  },
  {
   "cell_type": "code",
   "execution_count": 3,
   "id": "552ea398",
   "metadata": {},
   "outputs": [],
   "source": [
    "import sympy as sp"
   ]
  },
  {
   "cell_type": "code",
   "execution_count": 4,
   "id": "97644b1e",
   "metadata": {},
   "outputs": [],
   "source": [
    "x, y, z, u1, u2, u3, v1, v2, v3 = sp.symbols('x y z u_1 u_2 u_3 v_1 v_2 v_3')"
   ]
  },
  {
   "cell_type": "code",
   "execution_count": 6,
   "id": "76201fa3",
   "metadata": {},
   "outputs": [],
   "source": [
    "u = sp.Matrix([u1, u2, u3])"
   ]
  },
  {
   "cell_type": "code",
   "execution_count": 7,
   "id": "588a8b0c",
   "metadata": {},
   "outputs": [],
   "source": [
    "v = sp.Matrix([v1, v2, v3])"
   ]
  },
  {
   "cell_type": "code",
   "execution_count": 9,
   "id": "a4b253ac",
   "metadata": {},
   "outputs": [
    {
     "data": {
      "text/latex": [
       "$\\displaystyle \\left[\\begin{matrix}u_{1} + v_{1}\\\\u_{2} + v_{2}\\\\u_{3} + v_{3}\\end{matrix}\\right]$"
      ],
      "text/plain": [
       "Matrix([\n",
       "[u_1 + v_1],\n",
       "[u_2 + v_2],\n",
       "[u_3 + v_3]])"
      ]
     },
     "execution_count": 9,
     "metadata": {},
     "output_type": "execute_result"
    }
   ],
   "source": [
    "u+v"
   ]
  },
  {
   "cell_type": "code",
   "execution_count": 10,
   "id": "cddff8c6",
   "metadata": {},
   "outputs": [],
   "source": [
    "B=sp.Matrix([2, 1, 3])\n",
    "C=sp.Matrix([1,0,-8])"
   ]
  },
  {
   "cell_type": "markdown",
   "id": "88dbe51e",
   "metadata": {},
   "source": [
    "## Módulo del vector"
   ]
  },
  {
   "cell_type": "code",
   "execution_count": 11,
   "id": "44367268",
   "metadata": {},
   "outputs": [
    {
     "data": {
      "text/latex": [
       "$\\displaystyle \\sqrt{14}$"
      ],
      "text/plain": [
       "sqrt(14)"
      ]
     },
     "execution_count": 11,
     "metadata": {},
     "output_type": "execute_result"
    }
   ],
   "source": [
    "B.norm()"
   ]
  },
  {
   "cell_type": "markdown",
   "id": "6e787d21",
   "metadata": {},
   "source": [
    "## Producto punto"
   ]
  },
  {
   "cell_type": "code",
   "execution_count": 12,
   "id": "a6126668",
   "metadata": {},
   "outputs": [
    {
     "data": {
      "text/latex": [
       "$\\displaystyle -22$"
      ],
      "text/plain": [
       "-22"
      ]
     },
     "execution_count": 12,
     "metadata": {},
     "output_type": "execute_result"
    }
   ],
   "source": [
    "B.dot(C)"
   ]
  },
  {
   "cell_type": "markdown",
   "id": "919560e0",
   "metadata": {},
   "source": [
    "## Producto vectorial"
   ]
  },
  {
   "cell_type": "code",
   "execution_count": 13,
   "id": "129016c6",
   "metadata": {},
   "outputs": [
    {
     "data": {
      "text/latex": [
       "$\\displaystyle \\left[\\begin{matrix}-8\\\\19\\\\-1\\end{matrix}\\right]$"
      ],
      "text/plain": [
       "Matrix([\n",
       "[-8],\n",
       "[19],\n",
       "[-1]])"
      ]
     },
     "execution_count": 13,
     "metadata": {},
     "output_type": "execute_result"
    }
   ],
   "source": [
    "B.cross(C)"
   ]
  },
  {
   "cell_type": "markdown",
   "id": "db64439c",
   "metadata": {},
   "source": [
    "## Derivadas e Integrales Vectoriales"
   ]
  },
  {
   "cell_type": "code",
   "execution_count": null,
   "id": "8177a1ae",
   "metadata": {},
   "outputs": [],
   "source": [
    "t = sp.symbols('t')\n",
    "a = Matrix([])"
   ]
  }
 ],
 "metadata": {
  "kernelspec": {
   "display_name": "Python 3 (ipykernel)",
   "language": "python",
   "name": "python3"
  },
  "language_info": {
   "codemirror_mode": {
    "name": "ipython",
    "version": 3
   },
   "file_extension": ".py",
   "mimetype": "text/x-python",
   "name": "python",
   "nbconvert_exporter": "python",
   "pygments_lexer": "ipython3",
   "version": "3.9.12"
  }
 },
 "nbformat": 4,
 "nbformat_minor": 5
}
